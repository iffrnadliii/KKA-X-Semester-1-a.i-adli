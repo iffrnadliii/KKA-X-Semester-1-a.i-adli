{
  "nbformat": 4,
  "nbformat_minor": 0,
  "metadata": {
    "colab": {
      "provenance": [],
      "authorship_tag": "ABX9TyOJfM5ToHeSuHNSpwrFJXWt",
      "include_colab_link": true
    },
    "kernelspec": {
      "name": "python3",
      "display_name": "Python 3"
    },
    "language_info": {
      "name": "python"
    }
  },
  "cells": [
    {
      "cell_type": "markdown",
      "metadata": {
        "id": "view-in-github",
        "colab_type": "text"
      },
      "source": [
        "<a href=\"https://colab.research.google.com/github/iffrnadliii/KKA-X-Semester-1-a.i-adli/blob/main/1_Fungsi_print_ahmad_ifirrin_adli_X_2.ipynb\" target=\"_parent\"><img src=\"https://colab.research.google.com/assets/colab-badge.svg\" alt=\"Open In Colab\"/></a>"
      ]
    },
    {
      "cell_type": "markdown",
      "source": [
        "nama:ahmad ifirrin adli\n",
        "\n",
        "kelas:X.2\n",
        "\n",
        "nomor absen:2"
      ],
      "metadata": {
        "id": "QK-Fsf8rM_jA"
      }
    },
    {
      "cell_type": "markdown",
      "source": [
        "#menampilkan teks sederhana"
      ],
      "metadata": {
        "id": "rOeMzWlPNtwu"
      }
    },
    {
      "cell_type": "code",
      "source": [],
      "metadata": {
        "id": "OC5Yx0qy0zxc"
      },
      "execution_count": null,
      "outputs": []
    },
    {
      "cell_type": "code",
      "execution_count": null,
      "metadata": {
        "colab": {
          "base_uri": "https://localhost:8080/"
        },
        "id": "dcASMrTHM-VS",
        "outputId": "eb5fecac-a6c1-44a7-ee3a-af2850b09b91"
      },
      "outputs": [
        {
          "output_type": "stream",
          "name": "stdout",
          "text": [
            "saya sedang belajar python\n"
          ]
        }
      ],
      "source": [
        "print(\"saya sedang belajar python\")"
      ]
    },
    {
      "cell_type": "code",
      "source": [],
      "metadata": {
        "id": "4PP2qbNX02EE"
      },
      "execution_count": null,
      "outputs": []
    },
    {
      "cell_type": "markdown",
      "source": [
        "#menampilkan variabel"
      ],
      "metadata": {
        "id": "AaR9mDTBOF7h"
      }
    },
    {
      "cell_type": "code",
      "source": [
        "nama = \"andi\"\n",
        "print(nama)"
      ],
      "metadata": {
        "colab": {
          "base_uri": "https://localhost:8080/"
        },
        "id": "mYl5m51vNrmp",
        "outputId": "4c18319d-e929-4150-b082-127158577860"
      },
      "execution_count": null,
      "outputs": [
        {
          "output_type": "stream",
          "name": "stdout",
          "text": [
            "andi\n"
          ]
        }
      ]
    },
    {
      "cell_type": "code",
      "source": [
        "print(\"halo,nama saya \"+ nama)"
      ],
      "metadata": {
        "colab": {
          "base_uri": "https://localhost:8080/"
        },
        "id": "eU5Ci2bzPftx",
        "outputId": "0463054a-0783-4160-9b9a-80fd30008c0e"
      },
      "execution_count": null,
      "outputs": [
        {
          "output_type": "stream",
          "name": "stdout",
          "text": [
            "halo,nama saya andi\n"
          ]
        }
      ]
    },
    {
      "cell_type": "markdown",
      "source": [
        "#Escape Character"
      ],
      "metadata": {
        "id": "6C9ElSeH3i9I"
      }
    },
    {
      "cell_type": "code",
      "source": [
        "print(\"nama\\t\\t:ahmad ifirrin adli\\nkelas\\t\\t:X.2\\nno. absen\\t:02\")"
      ],
      "metadata": {
        "colab": {
          "base_uri": "https://localhost:8080/"
        },
        "id": "LEFznrxm2H13",
        "outputId": "5a49be64-b73a-4cd3-b0b1-99aaea345964"
      },
      "execution_count": null,
      "outputs": [
        {
          "output_type": "stream",
          "name": "stdout",
          "text": [
            "nama\t\t:ahmad ifirrin adli\n",
            "kelas\t\t:X.2\n",
            "no. absen\t:02\n"
          ]
        }
      ]
    },
    {
      "cell_type": "code",
      "source": [
        "print(\"\"\"nama:ahmad ifirrin adli\n",
        "kelas:X.2\n",
        "no. absen:02\"\"\")"
      ],
      "metadata": {
        "colab": {
          "base_uri": "https://localhost:8080/"
        },
        "id": "sYoCohqd2i93",
        "outputId": "dd05cc2a-b0e7-4cb4-c7de-a556a6fcf880"
      },
      "execution_count": null,
      "outputs": [
        {
          "output_type": "stream",
          "name": "stdout",
          "text": [
            "nama:ahmad ifirrin adli\n",
            "kelas:X.2\n",
            "no. absen:02\n"
          ]
        }
      ]
    },
    {
      "cell_type": "code",
      "source": [
        "print(\"nama:ahmad ifirrin adli\")\n",
        "print(\"kelas:X.2\")\n",
        "print(\"no. absen:02\")"
      ],
      "metadata": {
        "colab": {
          "base_uri": "https://localhost:8080/"
        },
        "id": "N7p8enl83Cs3",
        "outputId": "1d221a86-e25b-40b5-8957-3588b4a7723f"
      },
      "execution_count": null,
      "outputs": [
        {
          "output_type": "stream",
          "name": "stdout",
          "text": [
            "nama:ahmad ifirrin adli\n",
            "kelas:X.2\n",
            "no. absen:02\n"
          ]
        }
      ]
    },
    {
      "cell_type": "code",
      "source": [
        "print(\"Jadwal Pelajaran Mingguan\\nJam\\tSenin\\t\\tSelasa\\t\\tRabu\\nJam 1\\tMatematika\\tBahasa\\t\\tInformatika\\nJam 2\\tBahasa ing\\tSejarah\\t\\tMa\\'rifatullah\\nJam 3\\tInformatika\\tOlahraga\\tBiologi\")"
      ],
      "metadata": {
        "id": "gSjEJtRQRBBe",
        "outputId": "4fc4d006-29ec-49ec-a774-c2242c81a6f5",
        "colab": {
          "base_uri": "https://localhost:8080/"
        }
      },
      "execution_count": null,
      "outputs": [
        {
          "output_type": "stream",
          "name": "stdout",
          "text": [
            "Jadwal Pelajaran Mingguan\n",
            "Jam\tSenin\t\tSelasa\t\tRabu\n",
            "Jam 1\tMatematika\tBahasa\t\tInformatika\n",
            "Jam 2\tBahasa ing\tSejarah\t\tMa'rifatullah\n",
            "Jam 3\tInformatika\tOlahraga\tBiologi\n"
          ]
        }
      ]
    },
    {
      "cell_type": "markdown",
      "source": [
        "latihan"
      ],
      "metadata": {
        "id": "OkP6GXTw05y6"
      }
    },
    {
      "cell_type": "code",
      "source": [
        "nama_siswa_1=\"jielo\"\n",
        "\n",
        "nama_siswa_2=\"aida\"\n",
        "\n",
        "nama_siswa_3=\"dani\"\n",
        "\n",
        "nama_siswa_4=\"nurul\"\n",
        "\n",
        "print(nama_siswa_4, end=\"/\")\n",
        "print(nama_siswa_2, end=\"/\")\n",
        "print(nama_siswa_1, end=\"/\")\n",
        "print(nama_siswa_3)"
      ],
      "metadata": {
        "colab": {
          "base_uri": "https://localhost:8080/"
        },
        "id": "uhRGkKOC03Ux",
        "outputId": "e1c4c8b9-643e-486b-b997-5cb77833870f"
      },
      "execution_count": null,
      "outputs": [
        {
          "output_type": "stream",
          "name": "stdout",
          "text": [
            "nurul/aida/jielo/dani\n"
          ]
        }
      ]
    },
    {
      "cell_type": "code",
      "source": [
        "nama_siswa_5=\"hasbi\"\n",
        "\n",
        "nama_siswa_6=\"habibi\"\n",
        "\n",
        "nama_siswa_7=\"rendra\"\n",
        "\n",
        "nama_siswa_8=\"naufal\"\n",
        "\n",
        "print(nama_siswa_5, nama_siswa_8, nama_siswa_7, nama_siswa_6, nama_siswa_8, sep=\"*\")"
      ],
      "metadata": {
        "colab": {
          "base_uri": "https://localhost:8080/"
        },
        "id": "IJAdn_b74Q8f",
        "outputId": "cfd3a975-764f-49c9-bbad-44aa14c68899"
      },
      "execution_count": null,
      "outputs": [
        {
          "output_type": "stream",
          "name": "stdout",
          "text": [
            "hasbi*naufal*rendra*habibi*naufal\n"
          ]
        }
      ]
    },
    {
      "cell_type": "code",
      "source": [
        "print(\"=\" * 100)"
      ],
      "metadata": {
        "id": "3tE3KE5O5kWG",
        "colab": {
          "base_uri": "https://localhost:8080/"
        },
        "outputId": "ccf30920-9c78-4315-accb-eb3ccb2bcd59"
      },
      "execution_count": null,
      "outputs": [
        {
          "output_type": "stream",
          "name": "stdout",
          "text": [
            "====================================================================================================\n"
          ]
        }
      ]
    },
    {
      "cell_type": "code",
      "source": [
        "print('bu shinta berkata, \"berikut adalah daftar piket harian kelas x.2 yang disimpan di file D:\\\\man demak\\\\jadwal piket\"\\nsenin\\tselasa\\trabu\\njielo\\thasbi\\tnaufal\\nazam\\taida\\tnurul')"
      ],
      "metadata": {
        "colab": {
          "base_uri": "https://localhost:8080/"
        },
        "id": "xLRyUQ7f6vjo",
        "outputId": "48e87eef-da4f-4f22-dcf6-dcafff259661"
      },
      "execution_count": null,
      "outputs": [
        {
          "output_type": "stream",
          "name": "stdout",
          "text": [
            "bu shinta berkata, \"berikut adalah daftar piket harian kelas x.2 yang disimpan di file D:\\man demak\\jadwal piket\"\n",
            "senin\tselasa\trabu\n",
            "jielo\thasbi\tnaufal\n",
            "azam\taida\tnurul\n"
          ]
        }
      ]
    }
  ]
}